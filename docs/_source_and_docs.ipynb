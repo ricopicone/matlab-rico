{
 "cells": [
  {
   "cell_type": "code",
   "execution_count": 1,
   "metadata": {
    "tags": [
     "jupyter:kill_cell"
    ]
   },
   "outputs": [],
   "source": [
    "clear\n",
    "save_figures = 1;"
   ]
  },
  {
   "cell_type": "code",
   "execution_count": 2,
   "metadata": {
    "tags": [
     "jupyter:kill_cell"
    ]
   },
   "outputs": [
    {
     "data": {
      "application/javascript": [
       "var kernel = IPython.notebook.kernel;\n",
       "var thename = window.document.getElementById(\"notebook_name\").innerHTML;\n",
       "var command = \"the_notebook = \" + \"'\"+thename+\"'\";\n",
       "kernel.execute(command);\n",
       "var command = \"the_kernel = \" + \"'\"+kernel.name+\"'\";\n",
       "kernel.execute(command);"
      ],
      "text/plain": [
       "<IPython.core.display.Javascript object>"
      ]
     },
     "metadata": {},
     "output_type": "display_data"
    }
   ],
   "source": [
    "%%javascript\n",
    "var kernel = IPython.notebook.kernel;\n",
    "var thename = window.document.getElementById(\"notebook_name\").innerHTML;\n",
    "var command = \"the_notebook = \" + \"'\"+thename+\"'\";\n",
    "kernel.execute(command);\n",
    "var command = \"the_kernel = \" + \"'\"+kernel.name+\"'\";\n",
    "kernel.execute(command);"
   ]
  },
  {
   "cell_type": "markdown",
   "metadata": {},
   "source": [
    "The following was generated from a Jupyter notebook with the following filename and kernel."
   ]
  },
  {
   "cell_type": "code",
   "execution_count": 3,
   "metadata": {
    "scrolled": true
   },
   "outputs": [
    {
     "name": "stdout",
     "output_type": "stream",
     "text": [
      "notebook filename: _source_and_docs.ipynb\n",
      "notebook kernel: matlab\n"
     ]
    }
   ],
   "source": [
    "disp(['notebook filename: ',the_notebook,'.ipynb'])\n",
    "disp(['notebook kernel: ',the_kernel])"
   ]
  },
  {
   "cell_type": "markdown",
   "metadata": {},
   "source": [
    "# `tf_factor` docs"
   ]
  },
  {
   "cell_type": "markdown",
   "metadata": {},
   "source": [
    "The following is the source code. Executing the cell writes the source file!"
   ]
  },
  {
   "cell_type": "code",
   "execution_count": 5,
   "metadata": {},
   "outputs": [
    {
     "name": "stdout",
     "output_type": "stream",
     "text": [
      "Created file '/Users/picone/code/matlab-rico/tf_factor.m'.\n"
     ]
    }
   ],
   "source": [
    "%%file ../tf_factor.m\n",
    "function out = tf_factor(sys)\n",
    "% TF_FACTOR  factors a transfer function TF object\n",
    "%   SYS_ARRAY = TF_FACTOR(SYS) factors SYS into\n",
    "%   constant, real pole/zero, and \n",
    "%   conjugate pole/zero pair sub-TF models. \n",
    "%   It returns a TF model array. \n",
    "%   The last entry is the appropriate gain.\n",
    "%   The product of entries of the model array \n",
    "%   should equal sys.\n",
    "%   \n",
    "%   Dependencies:\n",
    "%     - matlab-rico functions\n",
    "%       - POLE \n",
    "%       - ZERO\n",
    "%     - toolboxes\n",
    "%       - Control Systems\n",
    "%\n",
    "%   Example:\n",
    "%\n",
    "%   sys=tf(...\n",
    "%     [-0.64 -0.4101 0.00783],...\n",
    "%     [1 1.489 0.7681 0.09455 0.0424 .7]...\n",
    "%   );\n",
    "%   tf_factor(sys)\n",
    "%   \n",
    "%   source: https://github.com/ricopicone/matlab-rico\n",
    "%   \n",
    "%   See also TF, STACK.\n",
    "\n",
    "if ~isa(sys,'tf')\n",
    "  sys = tf(sys);\n",
    "end\n",
    "\n",
    "% extract poles and zeros\n",
    "poles=pole(sys);\n",
    "zeros=zero(sys);\n",
    "\n",
    "% make sure they're in coupled pairs\n",
    "poles_cplx = cplxpair(poles);\n",
    "zeros_cplx = cplxpair(zeros);\n",
    "\n",
    "% loop through and extract sub-tfs into model array, each in standard form, keeping track of the gain\n",
    "F = stack(1,tf(1,1)); % init model array\n",
    "F_gain = sys.Num{:}(...\n",
    "  find(cell2mat(sys.Num),1,'first')...\n",
    "); % overall gain of stack\n",
    "F_gain_o = F_gain ; % original gain\n",
    "k=1;\n",
    "jskip=0;\n",
    "% poles first\n",
    "for j=1:length(poles_cplx)\n",
    "  if ~jskip\n",
    "    if ~isreal(poles_cplx(j))\n",
    "      F(:,:,k) = zpk([],[poles_cplx(j),poles_cplx(j+1)],poles_cplx(j)*poles_cplx(j+1));\n",
    "      F_gain = F_gain/abs(poles_cplx(j)*poles_cplx(j+1));\n",
    "      jskip=1;% skip next index\n",
    "    else\n",
    "      F(:,:,k) = zpk([],poles_cplx(j),abs(poles_cplx(j)));\n",
    "      F_gain = F_gain/abs(poles_cplx(j));\n",
    "      jskip=0;\n",
    "    end\n",
    "    k=k+1;\n",
    "  else\n",
    "    jskip=0;\n",
    "  end\n",
    "end\n",
    "% now zeros\n",
    "for j=1:length(zeros_cplx)\n",
    "  if ~jskip\n",
    "    if ~isreal(zeros_cplx(j))\n",
    "      F(:,:,k) = zpk([zeros_cplx(j),zeros_cplx(j+1)],[],1/(zeros_cplx(j)*zeros_cplx(j+1)));\n",
    "      F_gain = F_gain*abs(zeros_cplx(j)*zeros_cplx(j+1));\n",
    "      jskip=1;% skip next index\n",
    "    else\n",
    "      F(:,:,k) = zpk(zeros_cplx(j),[],1/abs(zeros_cplx(j)));\n",
    "      F_gain = F_gain*abs(zeros_cplx(j));\n",
    "      jskip=0;\n",
    "    end\n",
    "    k=k+1;\n",
    "  else\n",
    "    jskip=0;\n",
    "  end\n",
    "end\n",
    "F(:,:,k) = F_gain; % drop the overall gain into the model array\n",
    "\n",
    "% check by concatenation\n",
    "tf_composite = 1;\n",
    "for j=1:k\n",
    "  tf_composite = tf_composite*F(:,:,j);\n",
    "end\n",
    "\n",
    "if (... % check that the factorization is correct\n",
    "  isequal(sys.Num{:}(find(cell2mat(tf_composite.Num),1,'first')),F_gain_o) && ... % gain\n",
    "  round(sum(poles),5) == round(sum(pole(tf_composite)),5) && ... % poles ... not perfect\n",
    "  round(sum(zeros),5) == round(sum(zero(tf_composite)),5) ... % zeros ... not perfect\n",
    ")\n",
    "  out = F;\n",
    "else\n",
    "  error('composite check failed!')\n",
    "  out = 1;\n",
    "end"
   ]
  },
  {
   "cell_type": "markdown",
   "metadata": {},
   "source": [
    "## Usage and examples"
   ]
  },
  {
   "cell_type": "markdown",
   "metadata": {},
   "source": [
    "# `bode_multi` docs"
   ]
  },
  {
   "cell_type": "markdown",
   "metadata": {},
   "source": [
    "The following is the source code. Executing the cell writes the source file!"
   ]
  },
  {
   "cell_type": "code",
   "execution_count": 6,
   "metadata": {
    "code_folding": [
     16,
     42
    ]
   },
   "outputs": [
    {
     "name": "stdout",
     "output_type": "stream",
     "text": [
      "Created file '/Users/picone/code/matlab-rico/bode_multi.m'.\n"
     ]
    }
   ],
   "source": [
    "%%file ../bode_multi.m\n",
    "function [out,ax1,ax2] = bode_multi(sys_a)\n",
    "\n",
    "syms s\n",
    "\n",
    "if ~isa(sys_a,'tf')\n",
    "  sys_a = tf(sys_a);\n",
    "end\n",
    "n = length(sys_a); % > 1 if system model array\n",
    "\n",
    "out = figure;\n",
    "ax1 = subplot(2,1,1);\n",
    "ax2 = subplot(2,1,2);\n",
    "omega_a = {.1,1};\n",
    "mag_lims = [0,1];\n",
    "phase_lims = [-90,0];\n",
    "for i = 1:n\n",
    "  sys = sys_a(1,1,i);\n",
    "  [mag,phase,omega] = bode(sys);\n",
    "  if omega(1) < omega_a{1}\n",
    "    omega_a{1} = omega(1);\n",
    "  end\n",
    "  if omega(end) > omega_a{end}\n",
    "    omega_a{end} = omega(end);\n",
    "  end\n",
    "  if mag_lims(1) < mag_lims(1)\n",
    "    mag_lims(1) = mag_lims(1);\n",
    "  end\n",
    "  if mag_lims(2) > mag_lims(2)\n",
    "    mag_lims(2) = mag_lims(2);\n",
    "  end\n",
    "  if phase_lims(1) < phase_lims(1)\n",
    "    phase_lims(1) = phase_lims(1);\n",
    "  end\n",
    "  if phase_lims(2) > phase_lims(2)\n",
    "    phase_lims(2) = phase_lims(2);\n",
    "  end\n",
    "end\n",
    "\n",
    "olog = num2cell(cellfun(@(x) log10(x),omega_a));\n",
    "omega = logspace(olog{:},100);\n",
    "\n",
    "for i = 1:n\n",
    "  sys = sys_a(1,1,i);\n",
    "  [mag,phase] = bode(sys,omega);\n",
    "  mag = squeeze(mag);\n",
    "  phase = squeeze(phase);\n",
    "  % size(omega)\n",
    "  % omega = squeeze(omega);\n",
    "  axes(ax1);\n",
    "  hold on;\n",
    "  [num,den] = tfdata(sys);\n",
    "  sys_sym = poly2sym(cell2mat(num),s)/poly2sym(cell2mat(den),s);\n",
    "  semilogx(...\n",
    "    omega,db(mag),...\n",
    "    'linewidth',1,...\n",
    "    'displayname',['$',latex(sys_sym),'$']...\n",
    "  );\n",
    "  ylabel('|H(j\\omega)|, dB')\n",
    "  axes(ax2);\n",
    "  hold on;\n",
    "  semilogx(omega,phase,'linewidth',1);\n",
    "  xlabel('frequency \\omega, rad/s')\n",
    "  ylabel('\\angle{H(j\\omega)}, deg')\n",
    "  h = findobj(gcf,'type','line');\n",
    "  set(h,'linewidth',1);\n",
    "end\n",
    "% log scale\n",
    "ax1.XScale = 'log';\n",
    "ax2.XScale = 'log';\n",
    "% adjust limits and ticks\n",
    "mag_tick_array = ax1.YLim(1):20:ax1.YLim(2);\n",
    "[m0db,i0db_a] = min(abs(mag_tick_array));\n",
    "i0db = i0db_a(1); % first index closest to zero\n",
    "mag_tick_array = mag_tick_array-mag_tick_array(i0db);\n",
    "ax1.YTick = mag_tick_array;\n",
    "phase_tick_array = ax2.YLim(1):45:ax2.YLim(2);\n",
    "[p0db,i0_a] = min(abs(phase_tick_array));\n",
    "i0 = i0_a(1); % first index closest to zero\n",
    "phase_tick_array = phase_tick_array-phase_tick_array(i0);\n",
    "ax2.YTick = phase_tick_array;\n",
    "% grid lines\n",
    "ax1.XGrid = 'on';\n",
    "ax1.YGrid = 'on';\n",
    "ax2.XGrid = 'on';\n",
    "ax2.YGrid = 'on';\n",
    "% legend\n",
    "axP = get(ax1,'Position'); % so we can keep size\n",
    "l = legend(ax1,'show');\n",
    "l.Interpreter = 'latex';\n",
    "l.Location = 'northeastoutside';\n",
    "ax1.Position = axP; % reset size"
   ]
  },
  {
   "cell_type": "markdown",
   "metadata": {},
   "source": [
    "## Usage and examples"
   ]
  },
  {
   "cell_type": "code",
   "execution_count": 7,
   "metadata": {},
   "outputs": [
    {
     "name": "stdout",
     "output_type": "stream",
     "text": [
      "\n",
      "sys =\n",
      " \n",
      "    5 s^2 + 3 s + 5\n",
      "  --------------------\n",
      "  s^3 + 6 s^2 + s + 20\n",
      " \n",
      "Continuous-time transfer function.\n",
      "\n"
     ]
    }
   ],
   "source": [
    "sys = tf([5,3,5],[1,6,1,20])"
   ]
  },
  {
   "cell_type": "code",
   "execution_count": 8,
   "metadata": {},
   "outputs": [
    {
     "name": "stdout",
     "output_type": "stream",
     "text": [
      "\n",
      "sys_a(:,:,1,1) =\n",
      " \n",
      "          3.155\n",
      "  ----------------------\n",
      "  s^2 - 0.3399 s + 3.155\n",
      " \n",
      "\n",
      "sys_a(:,:,2,1) =\n",
      " \n",
      "    6.34\n",
      "  --------\n",
      "  s + 6.34\n",
      " \n",
      "\n",
      "sys_a(:,:,3,1) =\n",
      " \n",
      "  s^2 + 0.6 s + 1\n",
      " \n",
      "\n",
      "sys_a(:,:,4,1) =\n",
      " \n",
      "  0.25\n",
      " \n",
      "4x1 array of continuous-time transfer functions.\n",
      "\n"
     ]
    }
   ],
   "source": [
    "sys_a = tf_factor(sys)"
   ]
  },
  {
   "cell_type": "code",
   "execution_count": 13,
   "metadata": {
    "scrolled": true,
    "tags": [
     "jupyter:kill_output"
    ]
   },
   "outputs": [
    {
     "data": {
      "image/png": "[encoded data removed]",
      "text/plain": [
       "<IPython.core.display.Image object>"
      ]
     },
     "metadata": {},
     "output_type": "display_data"
    }
   ],
   "source": [
    "% [f,ax_mag,ax_phase] = bode_multi(G); % get axis handles\n",
    "f = bode_multi(sys_a);\n",
    "\n",
    "hgsave(f,'figures/temp');"
   ]
  },
  {
   "cell_type": "code",
   "execution_count": 14,
   "metadata": {
    "scrolled": true,
    "tags": [
     "jupyter:kill_cell"
    ]
   },
   "outputs": [
    {
     "data": {
      "image/png": "[encoded data removed]",
      "text/plain": [
       "<IPython.core.display.Image object>"
      ]
     },
     "metadata": {},
     "output_type": "display_data"
    }
   ],
   "source": [
    "if save_figures\n",
    "  fn = 'bode_multi_docs.tex';\n",
    "  h = hgload('figures/temp');\n",
    "  cleanfigure;\n",
    "  matlab2tikz(['figures/',fn],...\n",
    "    'figurehandle',h,...\n",
    "    'width','.9\\linewidth',...\n",
    "    'height','.5\\linewidth',...\n",
    "    'extraAxisOptions',...\n",
    "    [...\n",
    "      'scaled ticks=false,',... \n",
    "      'tick label style={/pgf/number format/fixed}'...\n",
    "    ],...\n",
    "    'showInfo', false...\n",
    "  );\n",
    "end"
   ]
  },
  {
   "cell_type": "raw",
   "metadata": {},
   "source": [
    "\\begin{figure}\n",
    "\\centering\n",
    "\\input{figures/bode_multi_docs.tex}\n",
    "\\caption{a bode multi example output.}\n",
    "\\label{fig:bode_multi_docs}\n",
    "\\end{figure}"
   ]
  },
  {
   "cell_type": "markdown",
   "metadata": {},
   "source": [
    "# `pole` docs"
   ]
  },
  {
   "cell_type": "markdown",
   "metadata": {},
   "source": [
    "The following is the source code. Executing the cell writes the source file!"
   ]
  },
  {
   "cell_type": "code",
   "execution_count": 15,
   "metadata": {},
   "outputs": [
    {
     "name": "stdout",
     "output_type": "stream",
     "text": [
      "Created file '/Users/picone/code/matlab-rico/pole.m'.\n"
     ]
    }
   ],
   "source": [
    "%%file ../pole.m\n",
    "function out = pole(sys)\n",
    "\n",
    "out = roots(cell2mat(sys.Den));"
   ]
  },
  {
   "cell_type": "markdown",
   "metadata": {},
   "source": [
    "## Usage and examples"
   ]
  },
  {
   "cell_type": "markdown",
   "metadata": {},
   "source": [
    "# `zero` docs"
   ]
  },
  {
   "cell_type": "markdown",
   "metadata": {},
   "source": [
    "The following is the source code. Executing the cell writes the source file!"
   ]
  },
  {
   "cell_type": "code",
   "execution_count": 16,
   "metadata": {},
   "outputs": [
    {
     "name": "stdout",
     "output_type": "stream",
     "text": [
      "Created file '/Users/picone/code/matlab-rico/zero.m'.\n"
     ]
    }
   ],
   "source": [
    "%%file ../zero.m\n",
    "function out = zero(sys)\n",
    "\n",
    "out = roots(cell2mat(sys.Num));"
   ]
  },
  {
   "cell_type": "markdown",
   "metadata": {},
   "source": [
    "## Usage and examples"
   ]
  },
  {
   "cell_type": "markdown",
   "metadata": {},
   "source": [
    "# `tf2latex` docs"
   ]
  },
  {
   "cell_type": "markdown",
   "metadata": {},
   "source": [
    "The following is the source code. Executing the cell writes the source file!"
   ]
  },
  {
   "cell_type": "code",
   "execution_count": 18,
   "metadata": {
    "scrolled": true,
    "tags": [
     "jupyter:kill_output"
    ]
   },
   "outputs": [
    {
     "name": "stdout",
     "output_type": "stream",
     "text": [
      "Created file '/Users/picone/code/matlab-rico/tf2latex.m'.\n"
     ]
    }
   ],
   "source": [
    "%%file ../tf2latex.m\n",
    "\n",
    "function out = tf2latex(sys)\n",
    "% TF2LATEX  converts tf model to LaTeX code\n",
    "%   TEXT = TF2LATEX(SYS) converts the\n",
    "%   tf model SYS to LaTeX text.\n",
    "%   Dependencies: \n",
    "%     - toolboxes\n",
    "%       - Control Systems\n",
    "%       - Symbolic\n",
    "\n",
    "syms s\n",
    "\n",
    "num = sys.Numerator;\n",
    "den = sys.Denominator;\n",
    "\n",
    "out = latex(...\n",
    "  poly2sym(...\n",
    "    cell2mat(num),...\n",
    "    s...\n",
    "  )/...\n",
    "  poly2sym(...\n",
    "    cell2mat(den),...\n",
    "    s...\n",
    "  )...\n",
    ");"
   ]
  },
  {
   "cell_type": "markdown",
   "metadata": {},
   "source": [
    "## Usage and examples"
   ]
  }
 ],
 "metadata": {
  "celltoolbar": "Tags",
  "kernelspec": {
   "display_name": "MATLAB",
   "language": "matlab",
   "name": "imatlab"
  },
  "language_info": {
   "codemirror_mode": "octave",
   "file_extension": ".m",
   "help_links": [
    {
     "text": "MetaKernel Magics",
     "url": "https://github.com/calysto/metakernel/blob/master/metakernel/magics/README.md"
    }
   ],
   "mimetype": "text/x-octave",
   "name": "matlab",
   "version": "0.15.0"
  },
  "varInspector": {
   "cols": {
    "lenName": 16,
    "lenType": 16,
    "lenVar": 40
   },
   "kernels_config": {
    "python": {
     "delete_cmd_postfix": "",
     "delete_cmd_prefix": "del ",
     "library": "var_list.py",
     "varRefreshCmd": "print(var_dic_list())"
    },
    "r": {
     "delete_cmd_postfix": ") ",
     "delete_cmd_prefix": "rm(",
     "library": "var_list.r",
     "varRefreshCmd": "cat(var_dic_list()) "
    }
   },
   "types_to_exclude": [
    "module",
    "function",
    "builtin_function_or_method",
    "instance",
    "_Feature"
   ],
   "window_display": false
  }
 },
 "nbformat": 4,
 "nbformat_minor": 2
}
